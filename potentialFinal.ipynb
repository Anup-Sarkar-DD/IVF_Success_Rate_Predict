{
 "cells": [
  {
   "cell_type": "code",
   "execution_count": 168,
   "metadata": {},
   "outputs": [],
   "source": [
    "import numpy as np\n",
    "import seaborn as sns\n",
    "import matplotlib.pyplot as plt\n",
    "import pandas as pd\n",
    "import warnings\n",
    "warnings.filterwarnings(\"ignore\")"
   ]
  },
  {
   "cell_type": "code",
   "execution_count": 169,
   "metadata": {},
   "outputs": [
    {
     "name": "stdout",
     "output_type": "stream",
     "text": [
      "  Unnamed: 0  v1  v2   v3  v4  v5  v6  v7  v8  v9  v10  v11  v12  v13\n",
      "0     METype   1   1  1.0   1   1   1   1   1   1    2    2    1    3\n",
      "1         C1  32   2  3.5   3   1   1   2   1   5    2    3    2    1\n",
      "2         C2  42   1  3.5   3   1   1   1   2   3    2    3    2    3\n",
      "3         C3  29   2  3.5   2   1   1   1   2   8    7    8    2    1\n",
      "4         C4  23   1  3.0   3   1   1   1   2  15    9    9    2    1\n",
      "**********************************************************************\n",
      "Index(['Unnamed: 0', 'v1', 'v2', 'v3', 'v4', 'v5', 'v6', 'v7', 'v8', 'v9',\n",
      "       'v10', 'v11', 'v12', 'v13'],\n",
      "      dtype='object')\n",
      "**********************************************************************\n",
      "<class 'pandas.core.frame.DataFrame'>\n",
      "RangeIndex: 225 entries, 0 to 224\n",
      "Data columns (total 14 columns):\n",
      " #   Column      Non-Null Count  Dtype  \n",
      "---  ------      --------------  -----  \n",
      " 0   Unnamed: 0  225 non-null    object \n",
      " 1   v1          225 non-null    int64  \n",
      " 2   v2          225 non-null    int64  \n",
      " 3   v3          225 non-null    float64\n",
      " 4   v4          225 non-null    int64  \n",
      " 5   v5          225 non-null    int64  \n",
      " 6   v6          225 non-null    int64  \n",
      " 7   v7          225 non-null    int64  \n",
      " 8   v8          225 non-null    int64  \n",
      " 9   v9          225 non-null    int64  \n",
      " 10  v10         225 non-null    int64  \n",
      " 11  v11         225 non-null    int64  \n",
      " 12  v12         225 non-null    int64  \n",
      " 13  v13         225 non-null    int64  \n",
      "dtypes: float64(1), int64(12), object(1)\n",
      "memory usage: 24.7+ KB\n",
      "None\n",
      "**********************************************************************\n"
     ]
    }
   ],
   "source": [
    "df = pd.read_csv(\"HealthCareProject.csv\")\n",
    "\n",
    "print(df.head())\n",
    "print(\"*\"*70)\n",
    "print(df.columns)\n",
    "print(\"*\"*70)\n",
    "print(df.info())\n",
    "print(\"*\"*70)"
   ]
  },
  {
   "cell_type": "code",
   "execution_count": 170,
   "metadata": {},
   "outputs": [],
   "source": [
    "# Drop specified columns AND first row in one chain\n",
    "df = df.drop(columns=['Unnamed: 0']).drop(index=0).reset_index(drop=True)\n",
    "\n",
    "# Replace 999 placeholders with NaN and fill them\n",
    "df.replace(999, np.nan, inplace=True)\n",
    "df.fillna(method='ffill', inplace=True)\n",
    "\n",
    "# Convert all columns to integers\n",
    "df = df.astype(int)\n"
   ]
  },
  {
   "cell_type": "code",
   "execution_count": 171,
   "metadata": {},
   "outputs": [
    {
     "data": {
      "text/html": [
       "<div>\n",
       "<style scoped>\n",
       "    .dataframe tbody tr th:only-of-type {\n",
       "        vertical-align: middle;\n",
       "    }\n",
       "\n",
       "    .dataframe tbody tr th {\n",
       "        vertical-align: top;\n",
       "    }\n",
       "\n",
       "    .dataframe thead th {\n",
       "        text-align: right;\n",
       "    }\n",
       "</style>\n",
       "<table border=\"1\" class=\"dataframe\">\n",
       "  <thead>\n",
       "    <tr style=\"text-align: right;\">\n",
       "      <th></th>\n",
       "      <th>v1</th>\n",
       "      <th>v2</th>\n",
       "      <th>v3</th>\n",
       "      <th>v4</th>\n",
       "      <th>v5</th>\n",
       "      <th>v6</th>\n",
       "      <th>v7</th>\n",
       "      <th>v8</th>\n",
       "      <th>v9</th>\n",
       "      <th>v10</th>\n",
       "      <th>v11</th>\n",
       "      <th>v12</th>\n",
       "      <th>v13</th>\n",
       "    </tr>\n",
       "  </thead>\n",
       "  <tbody>\n",
       "    <tr>\n",
       "      <th>0</th>\n",
       "      <td>32</td>\n",
       "      <td>2</td>\n",
       "      <td>3</td>\n",
       "      <td>3</td>\n",
       "      <td>1</td>\n",
       "      <td>1</td>\n",
       "      <td>2</td>\n",
       "      <td>1</td>\n",
       "      <td>5</td>\n",
       "      <td>2</td>\n",
       "      <td>3</td>\n",
       "      <td>2</td>\n",
       "      <td>1</td>\n",
       "    </tr>\n",
       "    <tr>\n",
       "      <th>1</th>\n",
       "      <td>42</td>\n",
       "      <td>1</td>\n",
       "      <td>3</td>\n",
       "      <td>3</td>\n",
       "      <td>1</td>\n",
       "      <td>1</td>\n",
       "      <td>1</td>\n",
       "      <td>2</td>\n",
       "      <td>3</td>\n",
       "      <td>2</td>\n",
       "      <td>3</td>\n",
       "      <td>2</td>\n",
       "      <td>3</td>\n",
       "    </tr>\n",
       "    <tr>\n",
       "      <th>2</th>\n",
       "      <td>29</td>\n",
       "      <td>2</td>\n",
       "      <td>3</td>\n",
       "      <td>2</td>\n",
       "      <td>1</td>\n",
       "      <td>1</td>\n",
       "      <td>1</td>\n",
       "      <td>2</td>\n",
       "      <td>8</td>\n",
       "      <td>7</td>\n",
       "      <td>8</td>\n",
       "      <td>2</td>\n",
       "      <td>1</td>\n",
       "    </tr>\n",
       "    <tr>\n",
       "      <th>3</th>\n",
       "      <td>23</td>\n",
       "      <td>1</td>\n",
       "      <td>3</td>\n",
       "      <td>3</td>\n",
       "      <td>1</td>\n",
       "      <td>1</td>\n",
       "      <td>1</td>\n",
       "      <td>2</td>\n",
       "      <td>15</td>\n",
       "      <td>9</td>\n",
       "      <td>9</td>\n",
       "      <td>2</td>\n",
       "      <td>1</td>\n",
       "    </tr>\n",
       "    <tr>\n",
       "      <th>4</th>\n",
       "      <td>22</td>\n",
       "      <td>1</td>\n",
       "      <td>5</td>\n",
       "      <td>3</td>\n",
       "      <td>1</td>\n",
       "      <td>1</td>\n",
       "      <td>1</td>\n",
       "      <td>1</td>\n",
       "      <td>5</td>\n",
       "      <td>3</td>\n",
       "      <td>3</td>\n",
       "      <td>2</td>\n",
       "      <td>3</td>\n",
       "    </tr>\n",
       "  </tbody>\n",
       "</table>\n",
       "</div>"
      ],
      "text/plain": [
       "   v1  v2  v3  v4  v5  v6  v7  v8  v9  v10  v11  v12  v13\n",
       "0  32   2   3   3   1   1   2   1   5    2    3    2    1\n",
       "1  42   1   3   3   1   1   1   2   3    2    3    2    3\n",
       "2  29   2   3   2   1   1   1   2   8    7    8    2    1\n",
       "3  23   1   3   3   1   1   1   2  15    9    9    2    1\n",
       "4  22   1   5   3   1   1   1   1   5    3    3    2    3"
      ]
     },
     "execution_count": 171,
     "metadata": {},
     "output_type": "execute_result"
    }
   ],
   "source": [
    "df.head()\n",
    "# v1 - Age\n",
    "# v2 - Classifier - Primary, secondary i.e., sterility. \n",
    "# v3 - Years before pregnancy(Years after marriage) (Duration of infertility). Does it mean that the patient facing the problem of non-pregnancy since v3?\n",
    "# v4 - Classifier - factor of non-children because of male or female or both\n",
    "# v5 - Classifier - whom we are using, self or donated by others female\n",
    "# v6 - Classifier - male sperm (self or other persons or combination of both)\n",
    "# v7 - classifier - method to activate sperms, stimulation\n",
    "# v8--  how we got sperms 4 to 5 methods, example masturbation, etc. --- outcome classifier.\n",
    "# v9 - Categorical number - No of eggs.\n",
    "# v10 - Predictive Outcomes - classifier - no of eggs formed - Intermediate outcomes - How many eggs formed \n",
    "# v11 - Predictive outcomes - classifier - How many eggs got converted to embryosss\n",
    "# v12 - Does it come under input variable in first tier or second tier. Immediately or after frozen\n",
    "# v13 – Pregnant (Yes/No)\n"
   ]
  },
  {
   "cell_type": "markdown",
   "metadata": {},
   "source": [
    "v1 - age not touching it ML works good with continous data \n",
    "v2 and v3 are also good \n",
    "v4 - (1,2,3,4) 4 is unknow sus lets drop  it\n"
   ]
  },
  {
   "cell_type": "code",
   "execution_count": 172,
   "metadata": {},
   "outputs": [
    {
     "name": "stdout",
     "output_type": "stream",
     "text": [
      "\n",
      " value counts \n",
      " v2\n",
      "1    147\n",
      "2     77\n",
      "Name: count, dtype: int64 \n",
      "\n",
      "\n",
      " value counts \n",
      " v4\n",
      "3    167\n",
      "2     42\n",
      "1      9\n",
      "4      6\n",
      "Name: count, dtype: int64 \n",
      "\n",
      "\n",
      " value counts \n",
      " v5\n",
      "1    174\n",
      "2     50\n",
      "Name: count, dtype: int64 \n",
      "\n",
      "\n",
      " value counts \n",
      " v6\n",
      "1    198\n",
      "2     19\n",
      "3      7\n",
      "Name: count, dtype: int64 \n",
      "\n",
      "\n",
      " value counts \n",
      " v7\n",
      "1    216\n",
      "2      8\n",
      "Name: count, dtype: int64 \n",
      "\n",
      "\n",
      " value counts \n",
      " v8\n",
      "1    120\n",
      "2     46\n",
      "3     35\n",
      "4     21\n",
      "5      2\n",
      "Name: count, dtype: int64 \n",
      "\n",
      "\n",
      " value counts \n",
      " v12\n",
      "2    199\n",
      "1     25\n",
      "Name: count, dtype: int64 \n",
      "\n",
      "\n",
      " value counts \n",
      " v13\n",
      "3    147\n",
      "1     69\n",
      "2      8\n",
      "Name: count, dtype: int64 \n",
      "\n"
     ]
    }
   ],
   "source": [
    "classfierCol = ['v1','v3', 'v9', 'v10', 'v11']\n",
    "\n",
    "for col in df.columns:\n",
    "    if col not in classfierCol:\n",
    "        print(f\"\\n value counts \\n {df[col].value_counts()} \\n\")\n"
   ]
  },
  {
   "cell_type": "code",
   "execution_count": 173,
   "metadata": {},
   "outputs": [],
   "source": [
    "# Drop rows where v4 is 4 (unknown/miscoded)\n",
    "df = df[df['v4'] != 4]\n",
    "\n",
    "# Optional: reset index afterward\n",
    "df = df.reset_index(drop=True)\n"
   ]
  },
  {
   "cell_type": "markdown",
   "metadata": {},
   "source": [
    "v8 = 5 check out other output\n",
    "only with 2 entry i decided to drop it \n"
   ]
  },
  {
   "cell_type": "code",
   "execution_count": 174,
   "metadata": {},
   "outputs": [],
   "source": [
    "\n",
    "# Drop rows where v8 == 5\n",
    "df = df[df['v8'] != 5]\n",
    "\n",
    "# Optional: reset index\n",
    "df = df.reset_index(drop=True)\n",
    "\n"
   ]
  },
  {
   "cell_type": "code",
   "execution_count": 175,
   "metadata": {},
   "outputs": [],
   "source": [
    "\n",
    "df = df[df['v13'] != 2].reset_index(drop=True)\n",
    "\n",
    "# Remap target: 1 → 0 (Pregnant), 3 → 1 (Not Pregnant)\n",
    "df['v13'] = df['v13'].map({1: 0, 3: 1})"
   ]
  },
  {
   "cell_type": "code",
   "execution_count": 176,
   "metadata": {},
   "outputs": [
    {
     "name": "stdout",
     "output_type": "stream",
     "text": [
      "\n",
      "Value counts for v2:\n",
      "\n",
      "v2\n",
      "1    137\n",
      "2     71\n",
      "Name: count, dtype: int64\n",
      "\n",
      "Value counts for v4:\n",
      "\n",
      "v4\n",
      "3    159\n",
      "2     40\n",
      "1      9\n",
      "Name: count, dtype: int64\n",
      "\n",
      "Value counts for v5:\n",
      "\n",
      "v5\n",
      "1    161\n",
      "2     47\n",
      "Name: count, dtype: int64\n",
      "\n",
      "Value counts for v6:\n",
      "\n",
      "v6\n",
      "1    182\n",
      "2     19\n",
      "3      7\n",
      "Name: count, dtype: int64\n",
      "\n",
      "Value counts for v7:\n",
      "\n",
      "v7\n",
      "1    201\n",
      "2      7\n",
      "Name: count, dtype: int64\n",
      "\n",
      "Value counts for v8:\n",
      "\n",
      "v8\n",
      "1    113\n",
      "2     43\n",
      "3     31\n",
      "4     21\n",
      "Name: count, dtype: int64\n",
      "\n",
      "Value counts for v10:\n",
      "\n",
      "v10\n",
      "6     26\n",
      "2     21\n",
      "7     21\n",
      "4     21\n",
      "8     18\n",
      "3     18\n",
      "5     16\n",
      "9     16\n",
      "11    11\n",
      "10    10\n",
      "1      9\n",
      "17     6\n",
      "13     5\n",
      "14     3\n",
      "12     3\n",
      "15     2\n",
      "16     1\n",
      "0      1\n",
      "Name: count, dtype: int64\n",
      "\n",
      "Value counts for v12:\n",
      "\n",
      "v12\n",
      "2    184\n",
      "1     24\n",
      "Name: count, dtype: int64\n",
      "\n",
      "Value counts for v13:\n",
      "\n",
      "v13\n",
      "1    140\n",
      "0     68\n",
      "Name: count, dtype: int64\n"
     ]
    }
   ],
   "source": [
    "skip_cols = ['v1', 'v3', 'v9', 'v11']\n",
    "\n",
    "for col in df.columns:\n",
    "    if col not in skip_cols:\n",
    "        print(f\"\\nValue counts for {col}:\\n\")\n",
    "        print(df[col].value_counts())\n"
   ]
  },
  {
   "cell_type": "code",
   "execution_count": 177,
   "metadata": {},
   "outputs": [
    {
     "name": "stdout",
     "output_type": "stream",
     "text": [
      " Boosting column: v4\n",
      " Boosting column: v6\n",
      " Boosting column: v7\n",
      " Boosting column: v8\n",
      " Boosting column: v12\n",
      "New shape: (838, 13)\n"
     ]
    }
   ],
   "source": [
    "from sklearn.utils import resample\n",
    "import pandas as pd\n",
    "\n",
    "# Column(s) to boost minority classes\n",
    "columns_to_boost = ['v4','v6','v7','v8','v12']  # for example\n",
    "boost_count = 70  # how many rows to add per minority class\n",
    "\n",
    "# Copy original\n",
    "boosted_df = df.copy()\n",
    "\n",
    "# Loop through each column\n",
    "for col in columns_to_boost:\n",
    "    print(f\" Boosting column: {col}\")\n",
    "    \n",
    "    counts = boosted_df[col].value_counts()\n",
    "    resampled_subsets = []\n",
    "\n",
    "    for cat_value, count in counts.items():\n",
    "        subset = boosted_df[boosted_df[col] == cat_value]\n",
    "\n",
    "        if count < counts.max():  # Only boost minority classes\n",
    "            upsampled = resample(\n",
    "                subset,\n",
    "                replace=True,\n",
    "                n_samples=boost_count,\n",
    "                random_state=42\n",
    "            )\n",
    "            resampled_subsets.append(upsampled)\n",
    "\n",
    "    # Only append the new upsampled data (don’t duplicate originals)\n",
    "    boosted_df = pd.concat([boosted_df] + resampled_subsets, ignore_index=True)\n",
    "\n",
    "# Shuffle and reset index\n",
    "boosted_df = boosted_df.sample(frac=1, random_state=42).reset_index(drop=True)\n",
    "\n",
    "# Replace df\n",
    "df = boosted_df.copy()\n",
    "\n",
    "\n",
    "print(\"New shape:\", df.shape)\n"
   ]
  },
  {
   "cell_type": "code",
   "execution_count": 178,
   "metadata": {},
   "outputs": [
    {
     "name": "stdout",
     "output_type": "stream",
     "text": [
      "\n",
      "Value counts for v2:\n",
      "\n",
      "v2\n",
      "1    604\n",
      "2    234\n",
      "Name: count, dtype: int64\n",
      "\n",
      "Value counts for v4:\n",
      "\n",
      "v4\n",
      "3    340\n",
      "2    287\n",
      "1    211\n",
      "Name: count, dtype: int64\n",
      "\n",
      "Value counts for v5:\n",
      "\n",
      "v5\n",
      "1    660\n",
      "2    178\n",
      "Name: count, dtype: int64\n",
      "\n",
      "Value counts for v6:\n",
      "\n",
      "v6\n",
      "1    520\n",
      "2    182\n",
      "3    136\n",
      "Name: count, dtype: int64\n",
      "\n",
      "Value counts for v7:\n",
      "\n",
      "v7\n",
      "1    720\n",
      "2    118\n",
      "Name: count, dtype: int64\n",
      "\n",
      "Value counts for v8:\n",
      "\n",
      "v8\n",
      "1    299\n",
      "4    195\n",
      "2    184\n",
      "3    160\n",
      "Name: count, dtype: int64\n",
      "\n",
      "Value counts for v12:\n",
      "\n",
      "v12\n",
      "2    666\n",
      "1    172\n",
      "Name: count, dtype: int64\n",
      "\n",
      "Value counts for v13:\n",
      "\n",
      "v13\n",
      "1    611\n",
      "0    227\n",
      "Name: count, dtype: int64\n"
     ]
    }
   ],
   "source": [
    "skip_cols = ['v1', 'v3', 'v9', 'v10','v11']\n",
    "\n",
    "for col in df.columns:\n",
    "    if col not in skip_cols:\n",
    "        print(f\"\\nValue counts for {col}:\\n\")\n",
    "        print(df[col].value_counts())\n"
   ]
  },
  {
   "cell_type": "code",
   "execution_count": 184,
   "metadata": {},
   "outputs": [
    {
     "name": "stdout",
     "output_type": "stream",
     "text": [
      "v1     0\n",
      "v2     0\n",
      "v3     0\n",
      "v4     0\n",
      "v5     0\n",
      "v6     0\n",
      "v7     0\n",
      "v8     0\n",
      "v9     0\n",
      "v10    0\n",
      "v11    0\n",
      "v12    0\n",
      "v13    0\n",
      "dtype: int64\n",
      "(838, 13)\n"
     ]
    }
   ],
   "source": [
    "print(df.isnull().sum())\n",
    "print(df.shape)\n"
   ]
  },
  {
   "cell_type": "code",
   "execution_count": null,
   "metadata": {},
   "outputs": [
    {
     "data": {
      "image/png": "[encoded data removed]",
      "text/plain": [
       "<Figure size 600x400 with 1 Axes>"
      ]
     },
     "metadata": {},
     "output_type": "display_data"
    },
    {
     "data": {
      "image/png": "[encoded data removed]",
      "text/plain": [
       "<Figure size 600x400 with 1 Axes>"
      ]
     },
     "metadata": {},
     "output_type": "display_data"
    },
    {
     "data": {
      "image/png": "[encoded data removed]",
      "text/plain": [
       "<Figure size 600x400 with 1 Axes>"
      ]
     },
     "metadata": {},
     "output_type": "display_data"
    },
    {
     "data": {
      "image/png": "[encoded data removed]",
      "text/plain": [
       "<Figure size 600x400 with 1 Axes>"
      ]
     },
     "metadata": {},
     "output_type": "display_data"
    },
    {
     "data": {
      "image/png": "[encoded data removed]",
      "text/plain": [
       "<Figure size 600x400 with 1 Axes>"
      ]
     },
     "metadata": {},
     "output_type": "display_data"
    },
    {
     "data": {
      "image/png": "[encoded data removed]",
      "text/plain": [
       "<Figure size 600x400 with 1 Axes>"
      ]
     },
     "metadata": {},
     "output_type": "display_data"
    }
   ],
   "source": [
    "for col in df.columns:\n",
    "    plt.figure(figsize=(6, 4))\n",
    "    sns.histplot(df[col], kde = True)\n",
    "    plt.show()"
   ]
  },
  {
   "cell_type": "code",
   "execution_count": 181,
   "metadata": {},
   "outputs": [],
   "source": [
    "x = df.iloc[:,:-1]\n",
    "y = df.iloc[:,-1]"
   ]
  },
  {
   "cell_type": "code",
   "execution_count": 186,
   "metadata": {},
   "outputs": [
    {
     "name": "stdout",
     "output_type": "stream",
     "text": [
      "x_train shape: (670, 12)\n",
      "x_test shape: (168, 12)\n",
      "x_train shape: (670,)\n",
      "x_test shape: (168,)\n",
      "y_train class distribution:\n",
      " v13\n",
      "1    489\n",
      "0    181\n",
      "Name: count, dtype: int64\n",
      "y_test class distribution:\n",
      " v13\n",
      "1    122\n",
      "0     46\n",
      "Name: count, dtype: int64\n"
     ]
    }
   ],
   "source": [
    "from sklearn.model_selection import train_test_split\n",
    "\n",
    "# Create train/test split (80/20 split)\n",
    "x_train, x_test, y_train, y_test = train_test_split(\n",
    "    x, y,\n",
    "    test_size=0.2,\n",
    "    stratify=y,          # preserves class balance in target\n",
    "    random_state=42      # for reproducibility\n",
    ")\n",
    "\n",
    "# Confirm shapes\n",
    "print(\"x_train shape:\", x_train.shape)\n",
    "print(\"x_test shape:\", x_test.shape)\n",
    "print(\"x_train shape:\", y_train.shape)\n",
    "print(\"x_test shape:\", y_test.shape)\n",
    "print(\"y_train class distribution:\\n\", y_train.value_counts())\n",
    "print(\"y_test class distribution:\\n\", y_test.value_counts())"
   ]
  },
  {
   "cell_type": "code",
   "execution_count": 183,
   "metadata": {},
   "outputs": [
    {
     "name": "stdout",
     "output_type": "stream",
     "text": [
      "86.30952380952381\n",
      "93.73134328358209\n",
      "🔍 Classification Report:\n",
      "               precision    recall  f1-score   support\n",
      "\n",
      "           0       0.76      0.74      0.75        46\n",
      "           1       0.90      0.91      0.91       122\n",
      "\n",
      "    accuracy                           0.86       168\n",
      "   macro avg       0.83      0.82      0.83       168\n",
      "weighted avg       0.86      0.86      0.86       168\n",
      "\n",
      "📊 Confusion Matrix:\n",
      " [[ 34  12]\n",
      " [ 11 111]]\n"
     ]
    }
   ],
   "source": [
    "\n",
    "from sklearn.ensemble import RandomForestClassifier\n",
    "from sklearn.metrics import classification_report, confusion_matrix\n",
    "\n",
    "\n",
    "# STEP 2: Train RandomForestClassifier\n",
    "rf = RandomForestClassifier(random_state=42)\n",
    "rf.fit(x_train, y_train)\n",
    "\n",
    "# STEP 3: Predict and evaluate\n",
    "y_pred = rf.predict(x_test)\n",
    "\n",
    "print(rf.score(x_test, y_test)* 100)\n",
    "print(rf.score(x_train, y_train)*100)\n",
    "\n",
    "# STEP 4: Print results\n",
    "print(\"🔍 Classification Report:\\n\", classification_report(y_test, y_pred))\n",
    "print(\"📊 Confusion Matrix:\\n\", confusion_matrix(y_test, y_pred))\n"
   ]
  }
 ],
 "metadata": {
  "kernelspec": {
   "display_name": "Python 3",
   "language": "python",
   "name": "python3"
  },
  "language_info": {
   "codemirror_mode": {
    "name": "ipython",
    "version": 3
   },
   "file_extension": ".py",
   "mimetype": "text/x-python",
   "name": "python",
   "nbconvert_exporter": "python",
   "pygments_lexer": "ipython3",
   "version": "3.12.4"
  }
 },
 "nbformat": 4,
 "nbformat_minor": 2
}
